{
 "cells": [
  {
   "cell_type": "markdown",
   "metadata": {},
   "source": [
    "## 1 初始准备\n",
    "### 1.1 读入数据\n",
    "数据分为训练数据集（2013-2016年）和测试数据集（2017年）"
   ]
  },
  {
   "cell_type": "code",
   "execution_count": 1,
   "metadata": {
    "collapsed": true
   },
   "outputs": [],
   "source": [
    "import pandas as pd\n",
    "import numpy as np\n",
    "train = pd.read_csv(\"D:/ai/train1000.csv\")\n",
    "test = pd.read_csv(\"D:/ai/test1000.csv\")\n",
    "# 输入条件的范围\n",
    "all_X = pd.concat((train.loc[:, 'solar term':'people'],\n",
    "                      test.loc[:, 'solar term':'people']))\n",
    "                      "
   ]
  },
  {
   "cell_type": "code",
   "execution_count": 2,
   "metadata": {},
   "outputs": [
    {
     "data": {
      "text/html": [
       "<div>\n",
       "<style>\n",
       "    .dataframe thead tr:only-child th {\n",
       "        text-align: right;\n",
       "    }\n",
       "\n",
       "    .dataframe thead th {\n",
       "        text-align: left;\n",
       "    }\n",
       "\n",
       "    .dataframe tbody tr th {\n",
       "        vertical-align: top;\n",
       "    }\n",
       "</style>\n",
       "<table border=\"1\" class=\"dataframe\">\n",
       "  <thead>\n",
       "    <tr style=\"text-align: right;\">\n",
       "      <th></th>\n",
       "      <th>date</th>\n",
       "      <th>solar term</th>\n",
       "      <th>day</th>\n",
       "      <th>small wind</th>\n",
       "      <th>middle wind</th>\n",
       "      <th>big wind</th>\n",
       "      <th>th.taibei</th>\n",
       "      <th>tl.taibei</th>\n",
       "      <th>r.taibei</th>\n",
       "      <th>th.taoyuan</th>\n",
       "      <th>...</th>\n",
       "      <th>tl.gaoxiong</th>\n",
       "      <th>r.gaoxiong</th>\n",
       "      <th>th.xinzhu</th>\n",
       "      <th>tl.xinzhu</th>\n",
       "      <th>r.xinzhu</th>\n",
       "      <th>GDP</th>\n",
       "      <th>industry</th>\n",
       "      <th>bdt</th>\n",
       "      <th>CPI</th>\n",
       "      <th>people</th>\n",
       "    </tr>\n",
       "  </thead>\n",
       "  <tbody>\n",
       "    <tr>\n",
       "      <th>0</th>\n",
       "      <td>2017/1/1</td>\n",
       "      <td>dongzhi</td>\n",
       "      <td>holiday</td>\n",
       "      <td>0</td>\n",
       "      <td>0</td>\n",
       "      <td>0</td>\n",
       "      <td>25</td>\n",
       "      <td>17</td>\n",
       "      <td>0.0</td>\n",
       "      <td>26</td>\n",
       "      <td>...</td>\n",
       "      <td>18</td>\n",
       "      <td>0.0</td>\n",
       "      <td>25</td>\n",
       "      <td>17</td>\n",
       "      <td>0.0</td>\n",
       "      <td>4297549</td>\n",
       "      <td>104.62</td>\n",
       "      <td>5714</td>\n",
       "      <td>100.32</td>\n",
       "      <td>23543346</td>\n",
       "    </tr>\n",
       "    <tr>\n",
       "      <th>1</th>\n",
       "      <td>2017/1/2</td>\n",
       "      <td>dongzhi</td>\n",
       "      <td>holiday</td>\n",
       "      <td>0</td>\n",
       "      <td>0</td>\n",
       "      <td>0</td>\n",
       "      <td>25</td>\n",
       "      <td>19</td>\n",
       "      <td>0.0</td>\n",
       "      <td>26</td>\n",
       "      <td>...</td>\n",
       "      <td>18</td>\n",
       "      <td>0.0</td>\n",
       "      <td>25</td>\n",
       "      <td>19</td>\n",
       "      <td>0.0</td>\n",
       "      <td>4297549</td>\n",
       "      <td>104.62</td>\n",
       "      <td>5714</td>\n",
       "      <td>100.32</td>\n",
       "      <td>23543346</td>\n",
       "    </tr>\n",
       "    <tr>\n",
       "      <th>2</th>\n",
       "      <td>2017/1/3</td>\n",
       "      <td>dongzhi</td>\n",
       "      <td>work</td>\n",
       "      <td>0</td>\n",
       "      <td>0</td>\n",
       "      <td>0</td>\n",
       "      <td>24</td>\n",
       "      <td>20</td>\n",
       "      <td>0.6</td>\n",
       "      <td>26</td>\n",
       "      <td>...</td>\n",
       "      <td>19</td>\n",
       "      <td>0.0</td>\n",
       "      <td>24</td>\n",
       "      <td>20</td>\n",
       "      <td>0.0</td>\n",
       "      <td>4297549</td>\n",
       "      <td>104.62</td>\n",
       "      <td>5714</td>\n",
       "      <td>100.32</td>\n",
       "      <td>23543346</td>\n",
       "    </tr>\n",
       "    <tr>\n",
       "      <th>3</th>\n",
       "      <td>2017/1/4</td>\n",
       "      <td>dongzhi</td>\n",
       "      <td>work</td>\n",
       "      <td>0</td>\n",
       "      <td>0</td>\n",
       "      <td>0</td>\n",
       "      <td>25</td>\n",
       "      <td>18</td>\n",
       "      <td>0.0</td>\n",
       "      <td>26</td>\n",
       "      <td>...</td>\n",
       "      <td>19</td>\n",
       "      <td>0.0</td>\n",
       "      <td>25</td>\n",
       "      <td>18</td>\n",
       "      <td>0.2</td>\n",
       "      <td>4297549</td>\n",
       "      <td>104.62</td>\n",
       "      <td>5714</td>\n",
       "      <td>100.32</td>\n",
       "      <td>23543346</td>\n",
       "    </tr>\n",
       "    <tr>\n",
       "      <th>4</th>\n",
       "      <td>2017/1/5</td>\n",
       "      <td>dongzhi</td>\n",
       "      <td>work</td>\n",
       "      <td>0</td>\n",
       "      <td>0</td>\n",
       "      <td>0</td>\n",
       "      <td>27</td>\n",
       "      <td>17</td>\n",
       "      <td>0.0</td>\n",
       "      <td>26</td>\n",
       "      <td>...</td>\n",
       "      <td>20</td>\n",
       "      <td>0.0</td>\n",
       "      <td>27</td>\n",
       "      <td>17</td>\n",
       "      <td>0.0</td>\n",
       "      <td>4297549</td>\n",
       "      <td>104.62</td>\n",
       "      <td>5714</td>\n",
       "      <td>100.32</td>\n",
       "      <td>23543346</td>\n",
       "    </tr>\n",
       "  </tbody>\n",
       "</table>\n",
       "<p>5 rows × 29 columns</p>\n",
       "</div>"
      ],
      "text/plain": [
       "       date solar term      day  small wind  middle wind  big wind  th.taibei  \\\n",
       "0  2017/1/1    dongzhi  holiday           0            0         0         25   \n",
       "1  2017/1/2    dongzhi  holiday           0            0         0         25   \n",
       "2  2017/1/3    dongzhi     work           0            0         0         24   \n",
       "3  2017/1/4    dongzhi     work           0            0         0         25   \n",
       "4  2017/1/5    dongzhi     work           0            0         0         27   \n",
       "\n",
       "   tl.taibei  r.taibei  th.taoyuan    ...     tl.gaoxiong  r.gaoxiong  \\\n",
       "0         17       0.0          26    ...              18         0.0   \n",
       "1         19       0.0          26    ...              18         0.0   \n",
       "2         20       0.6          26    ...              19         0.0   \n",
       "3         18       0.0          26    ...              19         0.0   \n",
       "4         17       0.0          26    ...              20         0.0   \n",
       "\n",
       "   th.xinzhu  tl.xinzhu r.xinzhu      GDP  industry   bdt     CPI    people  \n",
       "0         25         17      0.0  4297549    104.62  5714  100.32  23543346  \n",
       "1         25         19      0.0  4297549    104.62  5714  100.32  23543346  \n",
       "2         24         20      0.0  4297549    104.62  5714  100.32  23543346  \n",
       "3         25         18      0.2  4297549    104.62  5714  100.32  23543346  \n",
       "4         27         17      0.0  4297549    104.62  5714  100.32  23543346  \n",
       "\n",
       "[5 rows x 29 columns]"
      ]
     },
     "execution_count": 2,
     "metadata": {},
     "output_type": "execute_result"
    }
   ],
   "source": [
    "test.head()"
   ]
  },
  {
   "cell_type": "code",
   "execution_count": 3,
   "metadata": {
    "scrolled": true
   },
   "outputs": [
    {
     "data": {
      "text/html": [
       "<div>\n",
       "<style>\n",
       "    .dataframe thead tr:only-child th {\n",
       "        text-align: right;\n",
       "    }\n",
       "\n",
       "    .dataframe thead th {\n",
       "        text-align: left;\n",
       "    }\n",
       "\n",
       "    .dataframe tbody tr th {\n",
       "        vertical-align: top;\n",
       "    }\n",
       "</style>\n",
       "<table border=\"1\" class=\"dataframe\">\n",
       "  <thead>\n",
       "    <tr style=\"text-align: right;\">\n",
       "      <th></th>\n",
       "      <th>date</th>\n",
       "      <th>solar term</th>\n",
       "      <th>day</th>\n",
       "      <th>small wind</th>\n",
       "      <th>middle wind</th>\n",
       "      <th>big wind</th>\n",
       "      <th>th.taibei</th>\n",
       "      <th>tl.taibei</th>\n",
       "      <th>r.taibei</th>\n",
       "      <th>th.taoyuan</th>\n",
       "      <th>...</th>\n",
       "      <th>r.gaoxiong</th>\n",
       "      <th>th.xinzhu</th>\n",
       "      <th>tl.xinzhu</th>\n",
       "      <th>r.xinzhu</th>\n",
       "      <th>GDP</th>\n",
       "      <th>bdt</th>\n",
       "      <th>industry</th>\n",
       "      <th>CPI</th>\n",
       "      <th>people</th>\n",
       "      <th>electric</th>\n",
       "    </tr>\n",
       "  </thead>\n",
       "  <tbody>\n",
       "    <tr>\n",
       "      <th>0</th>\n",
       "      <td>2013/1/1</td>\n",
       "      <td>dongzhi</td>\n",
       "      <td>holiday</td>\n",
       "      <td>0</td>\n",
       "      <td>0</td>\n",
       "      <td>0</td>\n",
       "      <td>17.0</td>\n",
       "      <td>15.0</td>\n",
       "      <td>10.5</td>\n",
       "      <td>17</td>\n",
       "      <td>...</td>\n",
       "      <td>0.0</td>\n",
       "      <td>17</td>\n",
       "      <td>15</td>\n",
       "      <td>1.9</td>\n",
       "      <td>3682257</td>\n",
       "      <td>4059</td>\n",
       "      <td>102.74</td>\n",
       "      <td>97.45</td>\n",
       "      <td>23324092</td>\n",
       "      <td>22390.28</td>\n",
       "    </tr>\n",
       "    <tr>\n",
       "      <th>1</th>\n",
       "      <td>2013/1/2</td>\n",
       "      <td>dongzhi</td>\n",
       "      <td>work</td>\n",
       "      <td>0</td>\n",
       "      <td>0</td>\n",
       "      <td>0</td>\n",
       "      <td>20.0</td>\n",
       "      <td>15.0</td>\n",
       "      <td>1.0</td>\n",
       "      <td>20</td>\n",
       "      <td>...</td>\n",
       "      <td>0.0</td>\n",
       "      <td>20</td>\n",
       "      <td>15</td>\n",
       "      <td>0.2</td>\n",
       "      <td>3682257</td>\n",
       "      <td>4059</td>\n",
       "      <td>102.74</td>\n",
       "      <td>97.45</td>\n",
       "      <td>23324092</td>\n",
       "      <td>25210.44</td>\n",
       "    </tr>\n",
       "    <tr>\n",
       "      <th>2</th>\n",
       "      <td>2013/1/3</td>\n",
       "      <td>dongzhi</td>\n",
       "      <td>work</td>\n",
       "      <td>1</td>\n",
       "      <td>0</td>\n",
       "      <td>0</td>\n",
       "      <td>17.0</td>\n",
       "      <td>13.0</td>\n",
       "      <td>15.5</td>\n",
       "      <td>17</td>\n",
       "      <td>...</td>\n",
       "      <td>0.0</td>\n",
       "      <td>17</td>\n",
       "      <td>13</td>\n",
       "      <td>4.4</td>\n",
       "      <td>3682257</td>\n",
       "      <td>4059</td>\n",
       "      <td>102.74</td>\n",
       "      <td>97.45</td>\n",
       "      <td>23324092</td>\n",
       "      <td>25452.21</td>\n",
       "    </tr>\n",
       "    <tr>\n",
       "      <th>3</th>\n",
       "      <td>2013/1/4</td>\n",
       "      <td>dongzhi</td>\n",
       "      <td>work</td>\n",
       "      <td>1</td>\n",
       "      <td>0</td>\n",
       "      <td>0</td>\n",
       "      <td>17.0</td>\n",
       "      <td>14.0</td>\n",
       "      <td>4.5</td>\n",
       "      <td>17</td>\n",
       "      <td>...</td>\n",
       "      <td>0.0</td>\n",
       "      <td>17</td>\n",
       "      <td>14</td>\n",
       "      <td>1.7</td>\n",
       "      <td>3682257</td>\n",
       "      <td>4059</td>\n",
       "      <td>102.74</td>\n",
       "      <td>97.45</td>\n",
       "      <td>23324092</td>\n",
       "      <td>25561.65</td>\n",
       "    </tr>\n",
       "    <tr>\n",
       "      <th>4</th>\n",
       "      <td>2013/1/5</td>\n",
       "      <td>dongzhi</td>\n",
       "      <td>weekend</td>\n",
       "      <td>1</td>\n",
       "      <td>0</td>\n",
       "      <td>0</td>\n",
       "      <td>19.0</td>\n",
       "      <td>15.0</td>\n",
       "      <td>2.0</td>\n",
       "      <td>19</td>\n",
       "      <td>...</td>\n",
       "      <td>0.0</td>\n",
       "      <td>19</td>\n",
       "      <td>15</td>\n",
       "      <td>2.4</td>\n",
       "      <td>3682257</td>\n",
       "      <td>4059</td>\n",
       "      <td>102.74</td>\n",
       "      <td>97.45</td>\n",
       "      <td>23324092</td>\n",
       "      <td>24112.83</td>\n",
       "    </tr>\n",
       "  </tbody>\n",
       "</table>\n",
       "<p>5 rows × 30 columns</p>\n",
       "</div>"
      ],
      "text/plain": [
       "       date solar term      day  small wind  middle wind  big wind  th.taibei  \\\n",
       "0  2013/1/1    dongzhi  holiday           0            0         0       17.0   \n",
       "1  2013/1/2    dongzhi     work           0            0         0       20.0   \n",
       "2  2013/1/3    dongzhi     work           1            0         0       17.0   \n",
       "3  2013/1/4    dongzhi     work           1            0         0       17.0   \n",
       "4  2013/1/5    dongzhi  weekend           1            0         0       19.0   \n",
       "\n",
       "   tl.taibei  r.taibei  th.taoyuan    ...     r.gaoxiong  th.xinzhu  \\\n",
       "0       15.0      10.5          17    ...            0.0         17   \n",
       "1       15.0       1.0          20    ...            0.0         20   \n",
       "2       13.0      15.5          17    ...            0.0         17   \n",
       "3       14.0       4.5          17    ...            0.0         17   \n",
       "4       15.0       2.0          19    ...            0.0         19   \n",
       "\n",
       "   tl.xinzhu  r.xinzhu      GDP   bdt  industry    CPI    people  electric  \n",
       "0         15       1.9  3682257  4059    102.74  97.45  23324092  22390.28  \n",
       "1         15       0.2  3682257  4059    102.74  97.45  23324092  25210.44  \n",
       "2         13       4.4  3682257  4059    102.74  97.45  23324092  25452.21  \n",
       "3         14       1.7  3682257  4059    102.74  97.45  23324092  25561.65  \n",
       "4         15       2.4  3682257  4059    102.74  97.45  23324092  24112.83  \n",
       "\n",
       "[5 rows x 30 columns]"
      ]
     },
     "execution_count": 3,
     "metadata": {},
     "output_type": "execute_result"
    }
   ],
   "source": [
    "train.head()"
   ]
  },
  {
   "cell_type": "markdown",
   "metadata": {},
   "source": [
    "#### 数据标签说明\n",
    "solar term：节气\n",
    "\n",
    "day：日期类型，包含Sholiday 春节假日，holiday 公众假日，work 工作日，weekend 周末\n",
    "\n",
    "small/middle/big wind：分别对应 轻度/中度/强烈的台风\n",
    "\n",
    "?.city：th代表最高温度（℃），tl代表最低温度（℃），r代表降雨量（mm）\n",
    "\n",
    "GDP：代表地区生产总值（新台币百万元）\n",
    "\n",
    "industry：工业生产指数\n",
    "\n",
    "bdt：半导体产业产值（新台币亿元）\n",
    "\n",
    "CPI：居民消费价格指数\n",
    "\n",
    "people：人口数\n",
    "\n",
    "electric：单日最大负荷（MW）"
   ]
  },
  {
   "cell_type": "code",
   "execution_count": 4,
   "metadata": {},
   "outputs": [
    {
     "data": {
      "text/plain": [
       "(1461, 30)"
      ]
     },
     "execution_count": 4,
     "metadata": {},
     "output_type": "execute_result"
    }
   ],
   "source": [
    "train.shape"
   ]
  },
  {
   "cell_type": "code",
   "execution_count": 5,
   "metadata": {},
   "outputs": [
    {
     "data": {
      "text/plain": [
       "(365, 29)"
      ]
     },
     "execution_count": 5,
     "metadata": {},
     "output_type": "execute_result"
    }
   ],
   "source": [
    "test.shape"
   ]
  },
  {
   "cell_type": "markdown",
   "metadata": {},
   "source": [
    "### 1.2 预处理数据"
   ]
  },
  {
   "cell_type": "markdown",
   "metadata": {},
   "source": [
    "使用pandas对数值特征做标准化处理："
   ]
  },
  {
   "cell_type": "code",
   "execution_count": 6,
   "metadata": {
    "collapsed": true
   },
   "outputs": [],
   "source": [
    "numeric_feats = all_X.dtypes[all_X.dtypes != \"object\"].index\n",
    "all_X[numeric_feats] = all_X[numeric_feats].apply(lambda x: (x - x.mean())\n",
    "                                                            / (x.std()))"
   ]
  },
  {
   "cell_type": "markdown",
   "metadata": {},
   "source": [
    "把离散数据点转换成数值标签"
   ]
  },
  {
   "cell_type": "code",
   "execution_count": 7,
   "metadata": {
    "collapsed": true
   },
   "outputs": [],
   "source": [
    "all_X = pd.get_dummies(all_X, dummy_na=True)"
   ]
  },
  {
   "cell_type": "markdown",
   "metadata": {},
   "source": [
    "把缺失数据用本特征的平均值估计"
   ]
  },
  {
   "cell_type": "code",
   "execution_count": 8,
   "metadata": {
    "collapsed": true
   },
   "outputs": [],
   "source": [
    "all_X = all_X.fillna(all_X.mean())"
   ]
  },
  {
   "cell_type": "code",
   "execution_count": 9,
   "metadata": {
    "collapsed": true,
    "scrolled": true
   },
   "outputs": [],
   "source": [
    "num_train = train.shape[0]\n",
    "\n",
    "X_train = all_X[:num_train].as_matrix()\n",
    "X_test = all_X[num_train:].as_matrix()\n",
    "y_train = train.electric.as_matrix()"
   ]
  },
  {
   "cell_type": "markdown",
   "metadata": {},
   "source": [
    "### 1.3 导入NDArray格式数据"
   ]
  },
  {
   "cell_type": "code",
   "execution_count": 10,
   "metadata": {
    "collapsed": true
   },
   "outputs": [],
   "source": [
    "from mxnet import ndarray as nd\n",
    "from mxnet import autograd\n",
    "from mxnet import gluon\n",
    "\n",
    "X_train = nd.array(X_train)\n",
    "y_train = nd.array(y_train)\n",
    "y_train.reshape((num_train, 1))\n",
    "\n",
    "X_test = nd.array(X_test)"
   ]
  },
  {
   "cell_type": "markdown",
   "metadata": {},
   "source": [
    "## 2 机器学习模型\n",
    "### 2.1 定义损失函数\n",
    "使用平方误差作为损失函数，该函数可计算模型为有标签样本预测的值和标签的实际值之差的平方。由于取平方值，因此该损失函数会放大不佳预测的影响。也就是说，与 L1 损失函数相比，平方损失函数对离群值的反应更强烈。"
   ]
  },
  {
   "cell_type": "code",
   "execution_count": 11,
   "metadata": {
    "collapsed": true
   },
   "outputs": [],
   "source": [
    "square_loss = gluon.loss.L2Loss()"
   ]
  },
  {
   "cell_type": "code",
   "execution_count": 12,
   "metadata": {
    "collapsed": true
   },
   "outputs": [],
   "source": [
    "def get_rmse_log(net, X_train, y_train):\n",
    "    num_train = X_train.shape[0]\n",
    "    clipped_preds = nd.clip(net(X_train), 1, float('inf'))\n",
    "    return np.sqrt(2 * nd.sum(square_loss(\n",
    "        nd.log(clipped_preds), nd.log(y_train))).asscalar() / num_train)"
   ]
  },
  {
   "cell_type": "markdown",
   "metadata": {},
   "source": [
    "### 2.2 神经网络\n",
    "使用神经元作为节点连接输入和输出构成神经网络模型\n",
    "\n",
    "在上一层隐藏层中的各个节点的值传递到下一层进行加权求和之前，需要采用一个非线性函数对其进行了转换。这种非线性函数称为激活函数\n",
    "\n",
    "使用RELU作为激活函数：F(x)=max(0,x)"
   ]
  },
  {
   "cell_type": "code",
   "execution_count": 13,
   "metadata": {
    "collapsed": true
   },
   "outputs": [],
   "source": [
    "def get_net():\n",
    "    net = gluon.nn.Sequential()\n",
    "    \n",
    "    with net.name_scope():\n",
    "        \n",
    "        net.add(gluon.nn.Dense(20, activation=\"relu\"))\n",
    "        net.add(gluon.nn.Dense(20, activation=\"relu\"))\n",
    "        net.add(gluon.nn.Dense(20, activation=\"relu\"))\n",
    "        net.add(gluon.nn.Dense(20, activation=\"relu\"))\n",
    "        net.add(gluon.nn.Dense(20, activation=\"relu\"))\n",
    "        \n",
    "        net.add(gluon.nn.Dense(17, activation=\"relu\"))\n",
    "        net.add(gluon.nn.Dense(17, activation=\"relu\"))\n",
    "        net.add(gluon.nn.Dense(17, activation=\"relu\"))\n",
    "        net.add(gluon.nn.Dense(17, activation=\"relu\"))\n",
    "        \n",
    "        net.add(gluon.nn.Dense(13, activation=\"relu\"))\n",
    "        net.add(gluon.nn.Dense(13, activation=\"relu\"))\n",
    "        net.add(gluon.nn.Dense(13, activation=\"relu\"))\n",
    "        net.add(gluon.nn.Dense(13, activation=\"relu\"))\n",
    "        \n",
    "        net.add(gluon.nn.Dense(10, activation=\"relu\"))\n",
    "        net.add(gluon.nn.Dense(10, activation=\"relu\"))\n",
    "        net.add(gluon.nn.Dense(10, activation=\"relu\"))\n",
    "        \n",
    "        \n",
    "        net.add(gluon.nn.Dense(5, activation=\"relu\"))\n",
    "        net.add(gluon.nn.Dense(5, activation=\"relu\"))\n",
    "        \n",
    "        net.add(gluon.nn.Dense(1))\n",
    "    net.initialize()\n",
    "    return net"
   ]
  },
  {
   "cell_type": "markdown",
   "metadata": {},
   "source": [
    "## 3 核心程序设计\n",
    "### 3.1 训练函数和正则化"
   ]
  },
  {
   "cell_type": "code",
   "execution_count": 14,
   "metadata": {
    "collapsed": true
   },
   "outputs": [],
   "source": [
    "%matplotlib inline\n",
    "import matplotlib as mpl\n",
    "mpl.rcParams['figure.dpi']= 100\n",
    "import matplotlib.pyplot as plt\n",
    "\n",
    "def train(net, X_train, y_train, X_test, y_test, epochs,\n",
    "          verbose_epoch, learning_rate, weight_decay):\n",
    "    train_loss = []\n",
    "    if X_test is not None:\n",
    "        test_loss = []\n",
    "    batch_size = 110\n",
    "    dataset_train = gluon.data.ArrayDataset(X_train, y_train)\n",
    "    data_iter_train = gluon.data.DataLoader(\n",
    "        dataset_train, batch_size,shuffle=True)\n",
    "    trainer = gluon.Trainer(net.collect_params(), 'adam',\n",
    "                            {'learning_rate': learning_rate,\n",
    "                             'wd': weight_decay})\n",
    "    net.collect_params().initialize(force_reinit=True)\n",
    "    for epoch in range(epochs):\n",
    "        for data, label in data_iter_train:\n",
    "            with autograd.record():\n",
    "                output = net(data)\n",
    "                loss = square_loss(output, label)\n",
    "            loss.backward()\n",
    "            trainer.step(batch_size)\n",
    "\n",
    "            cur_train_loss = get_rmse_log(net, X_train, y_train)\n",
    "        if epoch > verbose_epoch:\n",
    "            print(\"Epoch %d, train loss: %f\" % (epoch, cur_train_loss))\n",
    "        train_loss.append(cur_train_loss)\n",
    "        if X_test is not None:\n",
    "            cur_test_loss = get_rmse_log(net, X_test, y_test)\n",
    "            test_loss.append(cur_test_loss)\n",
    "    plt.plot(train_loss)\n",
    "    plt.legend(['train'])\n",
    "    if X_test is not None:\n",
    "        plt.plot(test_loss)\n",
    "        plt.legend(['train','test'])\n",
    "    plt.show()\n",
    "    if X_test is not None:\n",
    "        return cur_train_loss, cur_test_loss\n",
    "    else:\n",
    "        return cur_train_loss"
   ]
  },
  {
   "cell_type": "markdown",
   "metadata": {},
   "source": [
    "### 3.2 K折交叉验证"
   ]
  },
  {
   "cell_type": "markdown",
   "metadata": {},
   "source": [
    "将全部训练集S分成 k个不相交的子集，假设S中的训练样例个数为m，那么每一个子集有 m/k 个训练样例，相应的子集称作 {s1,s2,…,sk}\n",
    "\n",
    "每次从分好的子集中里面，拿出一个作为测试集，其它k-1个作为训练集"
   ]
  },
  {
   "cell_type": "code",
   "execution_count": 15,
   "metadata": {
    "collapsed": true
   },
   "outputs": [],
   "source": [
    "def k_fold_cross_valid(k, epochs, verbose_epoch, X_train, y_train,\n",
    "                       learning_rate, weight_decay):\n",
    "    assert k > 1\n",
    "    fold_size = X_train.shape[0] // k\n",
    "    train_loss_sum = 0.0\n",
    "    test_loss_sum = 0.0\n",
    "    for test_i in range(k):\n",
    "        X_val_test = X_train[test_i * fold_size: (test_i + 1) * fold_size, :]\n",
    "        y_val_test = y_train[test_i * fold_size: (test_i + 1) * fold_size]\n",
    "\n",
    "        val_train_defined = False\n",
    "        for i in range(k):\n",
    "            if i != test_i:\n",
    "                X_cur_fold = X_train[i * fold_size: (i + 1) * fold_size, :]\n",
    "                y_cur_fold = y_train[i * fold_size: (i + 1) * fold_size]\n",
    "                if not val_train_defined:\n",
    "                    X_val_train = X_cur_fold\n",
    "                    y_val_train = y_cur_fold\n",
    "                    val_train_defined = True\n",
    "                else:\n",
    "                    X_val_train = nd.concat(X_val_train, X_cur_fold, dim=0)\n",
    "                    y_val_train = nd.concat(y_val_train, y_cur_fold, dim=0)\n",
    "        net = get_net()\n",
    "        train_loss, test_loss = train(\n",
    "            net, X_val_train, y_val_train, X_val_test, y_val_test,\n",
    "            epochs, verbose_epoch, learning_rate, weight_decay)\n",
    "        train_loss_sum += train_loss\n",
    "        print(\"Test loss: %f\" % test_loss)\n",
    "        test_loss_sum += test_loss\n",
    "    return train_loss_sum / k, test_loss_sum / k"
   ]
  },
  {
   "cell_type": "markdown",
   "metadata": {},
   "source": [
    "### 3.3 参数自定义\n",
    "一种通过计算并且减小梯度将损失降至最低的技术，它以训练数据为条件，来计算损失相对于模型参数的梯度。通俗来说，梯度下降法以迭代方式调整参数，逐渐找到权重和偏差的最佳组合，从而将损失降至最低。\n",
    "\n",
    "在训练模型时用于梯度下降的一个变量。在每次迭代期间，梯度下降法都会将学习速率与梯度相乘。得出的乘积称为梯度步长。\n",
    "\n",
    "权值衰减的作用是调节模型复杂度对损失函数的影响，若权值衰减很大，则复杂的模型损失函数的值也就大"
   ]
  },
  {
   "cell_type": "code",
   "execution_count": 16,
   "metadata": {
    "collapsed": true
   },
   "outputs": [],
   "source": [
    "# K个样本集合\n",
    "k = 5\n",
    "# 训练次数和显示截止的次数\n",
    "epochs = 100\n",
    "verbose_epoch = 95\n",
    "# 学习率\n",
    "learning_rate = 0.01\n",
    "# 权值衰减\n",
    "weight_decay = 0.01"
   ]
  },
  {
   "cell_type": "markdown",
   "metadata": {},
   "source": [
    "## 4 程序运行\n",
    "### 4.1 训练模型并输出误差曲线"
   ]
  },
  {
   "cell_type": "code",
   "execution_count": 17,
   "metadata": {},
   "outputs": [
    {
     "name": "stdout",
     "output_type": "stream",
     "text": [
      "Epoch 96, train loss: 0.035804\n",
      "Epoch 97, train loss: 0.029058\n",
      "Epoch 98, train loss: 0.025923\n",
      "Epoch 99, train loss: 0.027781\n"
     ]
    },
    {
     "data": {
      "image/png": "[encoded data removed]",
      "text/plain": [
       "<matplotlib.figure.Figure at 0x23f032696d8>"
      ]
     },
     "metadata": {},
     "output_type": "display_data"
    },
    {
     "name": "stdout",
     "output_type": "stream",
     "text": [
      "Test loss: 0.054463\n",
      "Epoch 96, train loss: 0.025420\n",
      "Epoch 97, train loss: 0.026909\n",
      "Epoch 98, train loss: 0.029939\n",
      "Epoch 99, train loss: 0.026149\n"
     ]
    },
    {
     "data": {
      "image/png": "[encoded data removed]",
      "text/plain": [
       "<matplotlib.figure.Figure at 0x23f032ba2b0>"
      ]
     },
     "metadata": {},
     "output_type": "display_data"
    },
    {
     "name": "stdout",
     "output_type": "stream",
     "text": [
      "Test loss: 0.066982\n",
      "Epoch 96, train loss: 0.024341\n",
      "Epoch 97, train loss: 0.023748\n",
      "Epoch 98, train loss: 0.024931\n",
      "Epoch 99, train loss: 0.024427\n"
     ]
    },
    {
     "data": {
      "image/png": "[encoded data removed]",
      "text/plain": [
       "<matplotlib.figure.Figure at 0x23f03c743c8>"
      ]
     },
     "metadata": {},
     "output_type": "display_data"
    },
    {
     "name": "stdout",
     "output_type": "stream",
     "text": [
      "Test loss: 0.041718\n",
      "Epoch 96, train loss: 0.023528\n",
      "Epoch 97, train loss: 0.025203\n",
      "Epoch 98, train loss: 0.023518\n",
      "Epoch 99, train loss: 0.025553\n"
     ]
    },
    {
     "data": {
      "image/png": "[encoded data removed]",
      "text/plain": [
       "<matplotlib.figure.Figure at 0x23f740e18d0>"
      ]
     },
     "metadata": {},
     "output_type": "display_data"
    },
    {
     "name": "stdout",
     "output_type": "stream",
     "text": [
      "Test loss: 0.047963\n",
      "Epoch 96, train loss: 0.022371\n",
      "Epoch 97, train loss: 0.023213\n",
      "Epoch 98, train loss: 0.027294\n",
      "Epoch 99, train loss: 0.024109\n"
     ]
    },
    {
     "data": {
      "image/png": "[encoded data removed]",
      "text/plain": [
       "<matplotlib.figure.Figure at 0x23f0720f080>"
      ]
     },
     "metadata": {},
     "output_type": "display_data"
    },
    {
     "name": "stdout",
     "output_type": "stream",
     "text": [
      "Test loss: 0.057521\n",
      "5-fold validation: Avg train loss: 0.025604, Avg test loss: 0.053729\n"
     ]
    }
   ],
   "source": [
    "train_loss, test_loss = k_fold_cross_valid(k, epochs, verbose_epoch, X_train,\n",
    "                                           y_train, learning_rate, weight_decay)\n",
    "print(\"%d-fold validation: Avg train loss: %f, Avg test loss: %f\" %\n",
    "      (k, train_loss, test_loss))"
   ]
  },
  {
   "cell_type": "markdown",
   "metadata": {},
   "source": [
    "### 4.2 输出结果并保存在本地"
   ]
  },
  {
   "cell_type": "code",
   "execution_count": 18,
   "metadata": {
    "collapsed": true
   },
   "outputs": [],
   "source": [
    "def learn(epochs, verbose_epoch, X_train, y_train, test, learning_rate,\n",
    "          weight_decay):\n",
    "    net = get_net()\n",
    "    train(net, X_train, y_train, None, None, epochs, verbose_epoch,\n",
    "          learning_rate, weight_decay)\n",
    "    preds = net(X_test).asnumpy()\n",
    "    test['electric'] = pd.Series(preds.reshape(1, -1)[0])\n",
    "    submission = pd.concat([test['date'], test['electric']], axis=1)\n",
    "    submission.to_csv('D:/ai/submission8.csv', index=False)"
   ]
  },
  {
   "cell_type": "markdown",
   "metadata": {},
   "source": [
    "### 4.3 训练结果曲线"
   ]
  },
  {
   "cell_type": "code",
   "execution_count": 19,
   "metadata": {
    "scrolled": true
   },
   "outputs": [
    {
     "name": "stdout",
     "output_type": "stream",
     "text": [
      "Epoch 96, train loss: 0.074034\n",
      "Epoch 97, train loss: 0.074046\n",
      "Epoch 98, train loss: 0.042875\n",
      "Epoch 99, train loss: 0.035475\n"
     ]
    },
    {
     "data": {
      "image/png": "[encoded data removed]",
      "text/plain": [
       "<matplotlib.figure.Figure at 0x23f03d407f0>"
      ]
     },
     "metadata": {},
     "output_type": "display_data"
    }
   ],
   "source": [
    "learn(epochs, verbose_epoch, X_train, y_train, test, learning_rate,\n",
    "      weight_decay)"
   ]
  },
  {
   "cell_type": "code",
   "execution_count": null,
   "metadata": {
    "collapsed": true
   },
   "outputs": [],
   "source": []
  },
  {
   "cell_type": "code",
   "execution_count": null,
   "metadata": {
    "collapsed": true
   },
   "outputs": [],
   "source": []
  },
  {
   "cell_type": "code",
   "execution_count": null,
   "metadata": {
    "collapsed": true
   },
   "outputs": [],
   "source": []
  },
  {
   "cell_type": "code",
   "execution_count": null,
   "metadata": {
    "collapsed": true
   },
   "outputs": [],
   "source": []
  }
 ],
 "metadata": {
  "kernelspec": {
   "display_name": "Python 3",
   "language": "python",
   "name": "python3"
  },
  "language_info": {
   "codemirror_mode": {
    "name": "ipython",
    "version": 3
   },
   "file_extension": ".py",
   "mimetype": "text/x-python",
   "name": "python",
   "nbconvert_exporter": "python",
   "pygments_lexer": "ipython3",
   "version": "3.6.2"
  }
 },
 "nbformat": 4,
 "nbformat_minor": 2
}
